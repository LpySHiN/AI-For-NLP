{
 "cells": [
  {
   "cell_type": "markdown",
   "metadata": {},
   "source": [
    "# 1. How to Github and Why do we use Jupyter and Pycharm\n",
    "\n",
    "Ans:\n",
    "\n",
    "Github:\n",
    "\n",
    "1、add ssh key\n",
    "\n",
    "2、git init\n",
    "\n",
    "3、git remote add origin git@github.com:xxx/xxx.git\n",
    "\n",
    "4、git add .\n",
    "\n",
    "5、git commit -a -m 'xxx'\n",
    "\n",
    "6、git push -u origin master\n",
    "\n",
    "Jupyter: Editor\n",
    "Pycharm：IDE，便于调试"
   ]
  },
  {
   "cell_type": "markdown",
   "metadata": {},
   "source": [
    "# 2. What's the Probability Model?\n",
    "\n",
    "Ans:\n",
    "\n",
    "概率模型是用来来描述不同随机变量之间关系的数学模型，通常情况下刻画了一个或多个随机变量之间的相互非确定性的概率关系。\n"
   ]
  },
  {
   "cell_type": "markdown",
   "metadata": {},
   "source": [
    "# 3.  Can you came up with some sceneraies at which we could use Probability Model?\n",
    "\n",
    "Ans:\n",
    "\n",
    "1、Speech recognition\n",
    "\n",
    "2、Optical Character Recognition\n",
    "\n",
    "3、Text understanding\n"
   ]
  },
  {
   "cell_type": "markdown",
   "metadata": {},
   "source": [
    "# 4. Why do we use probability and what's the difficult points for programming based on parsing and pattern match?\n",
    "\n",
    "Ans:\n",
    "\n",
    "1、因为概率可以较简单的抽象问题，节省开发时间；\n",
    "\n",
    "2、难点：不通语言的语法不同，而且人类语言的复杂度之高导致了无法通过固定简单的模式去解析和匹配，这样的结果就是基于概率模型的程序设计计算的结果仍可能不是我们所期望的结果。"
   ]
  },
  {
   "cell_type": "markdown",
   "metadata": {},
   "source": [
    "# 5. What's the Language Model\n",
    "\n",
    "Ans：\n",
    "\n",
    "1、语言模型是计算一个句子出现概率的抽象模型。"
   ]
  },
  {
   "cell_type": "markdown",
   "metadata": {},
   "source": [
    "# 6. Can you came up with some sceneraies at which we could use Language Model?\n",
    "\n",
    "Ans:\n",
    "\n",
    "1、文本纠错；\n",
    "\n",
    "2、语音识别。"
   ]
  },
  {
   "cell_type": "markdown",
   "metadata": {},
   "source": [
    "# 7. What's the 1-gram language model\n",
    "\n",
    "Ans:\n",
    "\n",
    "1、1-gram语言模型是假设一个词的出现与它周围的词出现是独立的情况下，通过计算句子中的单个词在语料库里的概率之积来作为计算语句出现的概率的语言模型。"
   ]
  },
  {
   "cell_type": "markdown",
   "metadata": {},
   "source": [
    "# 8. What's the disadvantages and advantages of 1-gram language model\n",
    "\n",
    "Ans:\n",
    "\n",
    "1、优点：程序设计简单，节省开发时间。\n",
    "\n",
    "2、缺点：未考虑到语句中的词汇的前后文关系，计算出的结果会出现偏差。"
   ]
  },
  {
   "cell_type": "markdown",
   "metadata": {},
   "source": [
    "# 9. What't the 2-gram models\n",
    "\n",
    "Ans：\n",
    "\n",
    "1、2-gram语言模型是假设一个词的出现的概率只与它前面一个词出现相关的情况下，通过计算句子中的单个词的概率之积来作为计算语句出现的概率的语言模型。"
   ]
  },
  {
   "cell_type": "markdown",
   "metadata": {},
   "source": [
    "# 10. what's the web crawler, and can you implement a simple crawler?\n",
    "\n",
    "Ans:\n",
    "\n",
    "1、网络爬虫是获取网页信息的程序。\n",
    "\n",
    "2、Maybe...\n"
   ]
  },
  {
   "cell_type": "markdown",
   "metadata": {},
   "source": [
    "# 11. There may be some issues to make our crwaler programming difficult, what are these, and how do we solve them?\n",
    "\n",
    "Ans:\n",
    "\n",
    "1、问题：JavaScript，拦截\n",
    "\n",
    "2、解决：selenium，webkit，scrapy"
   ]
  },
  {
   "cell_type": "markdown",
   "metadata": {},
   "source": [
    "# 12. What't the Regular Expression and how to use?\n",
    "\n",
    "Ans:\n",
    "\n",
    "1、正则表达式是对字符串操作的一种逻辑公式，就是用事先定义好的一些特定字符、及这些特定字符的组合，组成一个“规则字符串”，这个“规则字符串”用来表达对字符串的一种过滤逻辑。\n",
    "\n",
    "2、使用方法(Python)：\n",
    "\n",
    "import re\n",
    "\n",
    "re.findall(pattern, string)\n",
    "\n",
    "re.compile(pattern)\n",
    "\n",
    "compile_pattern.findall(string)"
   ]
  }
 ],
 "metadata": {
  "kernelspec": {
   "display_name": "Python 3",
   "language": "python",
   "name": "python3"
  },
  "language_info": {
   "codemirror_mode": {
    "name": "ipython",
    "version": 3
   },
   "file_extension": ".py",
   "mimetype": "text/x-python",
   "name": "python",
   "nbconvert_exporter": "python",
   "pygments_lexer": "ipython3",
   "version": "3.7.1"
  }
 },
 "nbformat": 4,
 "nbformat_minor": 2
}
